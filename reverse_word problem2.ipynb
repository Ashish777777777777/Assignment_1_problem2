{
 "cells": [
  {
   "cell_type": "code",
   "execution_count": 1,
   "id": "4d3fa3b7",
   "metadata": {},
   "outputs": [
    {
     "name": "stdout",
     "output_type": "stream",
     "text": [
      "Enter a word: ASHISH\n",
      "Reversed word: HSIHSA\n"
     ]
    }
   ],
   "source": [
    "def reverse_word(word):\n",
    "    reversed_word = \"\"\n",
    "    for char in word:\n",
    "        reversed_word = char + reversed_word\n",
    "    return reversed_word\n",
    "\n",
    "user_input = input(\"Enter a word: \")\n",
    "reversed_word = reverse_word(user_input)\n",
    "print(\"Reversed word:\", reversed_word)\n"
   ]
  },
  {
   "cell_type": "code",
   "execution_count": null,
   "id": "8045ddf4",
   "metadata": {},
   "outputs": [],
   "source": []
  }
 ],
 "metadata": {
  "kernelspec": {
   "display_name": "Python 3 (ipykernel)",
   "language": "python",
   "name": "python3"
  },
  "language_info": {
   "codemirror_mode": {
    "name": "ipython",
    "version": 3
   },
   "file_extension": ".py",
   "mimetype": "text/x-python",
   "name": "python",
   "nbconvert_exporter": "python",
   "pygments_lexer": "ipython3",
   "version": "3.10.9"
  }
 },
 "nbformat": 4,
 "nbformat_minor": 5
}
